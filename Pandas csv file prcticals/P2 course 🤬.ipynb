{
 "cells": [
  {
   "cell_type": "code",
   "execution_count": 3,
   "id": "bb178bf6-b6d0-4477-804c-4ee5a2d3be26",
   "metadata": {},
   "outputs": [],
   "source": [
    "import pandas as pd"
   ]
  },
  {
   "cell_type": "code",
   "execution_count": 5,
   "id": "dcd8faf3-ad03-41c0-94e9-4e0e3062b070",
   "metadata": {},
   "outputs": [],
   "source": [
    "import numpy as np\n"
   ]
  },
  {
   "cell_type": "code",
   "execution_count": 13,
   "id": "231d794e-63d3-4908-8972-295ed8830bb7",
   "metadata": {},
   "outputs": [],
   "source": [
    "co=pd.read_csv(\"course.csv\")"
   ]
  },
  {
   "cell_type": "code",
   "execution_count": 15,
   "id": "ab96eb67-a750-40d1-9919-6fad5287d89e",
   "metadata": {},
   "outputs": [
    {
     "name": "stdout",
     "output_type": "stream",
     "text": [
      "     1     Mumbai        PQR institute .Pvt            BI  MH   9 Months\n",
      "0    2      Delhi    ABC institute .Pvt.LTD            AI  UP  18 Months\n",
      "1    3  Bengaluru       MNO  institute .Ltd  Data Science  TN  11 Months\n",
      "2    4     Bhopal   RST  institute .Pvt.LTD            ML  MP   3 Months\n",
      "3    5     Mumbai   EFG  institute .Pvt.LTD            DL  MH   3 Months\n",
      "4    6  Hyderabad           LMN  institute          Could  AP   4 Months\n",
      "5    7      Patna      DEF   institute .Ltd      Web Serv  BH   4 Months\n",
      "6    8    Channai   PQR  institute .Pvt.LTD           AWS  KT   3 Months\n",
      "7    9    Kolkata       UVW  institute .Ltd    Networking  WB   3 Months\n",
      "8   10  Hyderabad      GHI   institute .Ltd            AI  AP  18 Months\n",
      "9   11     Bhopal          IJK   institute             DL  MP   3 Months\n",
      "10  12       Pune      KLM   institute .Ltd  Data Science  MH  11 Months\n",
      "11  13      Delhi       STU  institute .Ltd            BI  UP   6 Months\n",
      "12  14     Mumbai   XYZ  institute .Pvt.LTD         Could  MH   3 Months\n",
      "13  15      Patna       NOP  institute .Ltd           AWS  BH   3 Months\n",
      "14  16      Surat       QRS  institute .Ltd            ML  GJ   3 Months\n",
      "15  17      Delhi           WXY  institute            AWS  UP   3 Months\n",
      "16  18     Mumbai          ZAB   institute       Web Serv  MH   4 Months\n",
      "17  19       Pune       CDE  institute .Ltd  Data Science  MH  11 Months\n",
      "18  20  Bengaluru   JKL  institute .Pvt.LTD            AI  TN  18 Months\n",
      "19  21      Surat           INS   institute  Data Science  Gj  11 Months\n",
      "20  22  Hyderabad       ZAP  institute .Ltd            ML  AP   3 Months\n",
      "21  23     Mumbai  XCAD  institute .Pvt.LTD            DL  MH   3 Months\n",
      "22  24    Channai          MTK   institute          Could  KT   4 Months\n",
      "23  25      Patna       BST  institute .Ltd      Web Serv  BH   4 Months\n"
     ]
    }
   ],
   "source": [
    "print(co)"
   ]
  },
  {
   "cell_type": "code",
   "execution_count": 17,
   "id": "b3c7b8cd-89ff-4100-b086-57a566d0862b",
   "metadata": {},
   "outputs": [
    {
     "data": {
      "text/plain": [
       "<bound method NDFrame.head of      1     Mumbai        PQR institute .Pvt            BI  MH   9 Months\n",
       "0    2      Delhi    ABC institute .Pvt.LTD            AI  UP  18 Months\n",
       "1    3  Bengaluru       MNO  institute .Ltd  Data Science  TN  11 Months\n",
       "2    4     Bhopal   RST  institute .Pvt.LTD            ML  MP   3 Months\n",
       "3    5     Mumbai   EFG  institute .Pvt.LTD            DL  MH   3 Months\n",
       "4    6  Hyderabad           LMN  institute          Could  AP   4 Months\n",
       "5    7      Patna      DEF   institute .Ltd      Web Serv  BH   4 Months\n",
       "6    8    Channai   PQR  institute .Pvt.LTD           AWS  KT   3 Months\n",
       "7    9    Kolkata       UVW  institute .Ltd    Networking  WB   3 Months\n",
       "8   10  Hyderabad      GHI   institute .Ltd            AI  AP  18 Months\n",
       "9   11     Bhopal          IJK   institute             DL  MP   3 Months\n",
       "10  12       Pune      KLM   institute .Ltd  Data Science  MH  11 Months\n",
       "11  13      Delhi       STU  institute .Ltd            BI  UP   6 Months\n",
       "12  14     Mumbai   XYZ  institute .Pvt.LTD         Could  MH   3 Months\n",
       "13  15      Patna       NOP  institute .Ltd           AWS  BH   3 Months\n",
       "14  16      Surat       QRS  institute .Ltd            ML  GJ   3 Months\n",
       "15  17      Delhi           WXY  institute            AWS  UP   3 Months\n",
       "16  18     Mumbai          ZAB   institute       Web Serv  MH   4 Months\n",
       "17  19       Pune       CDE  institute .Ltd  Data Science  MH  11 Months\n",
       "18  20  Bengaluru   JKL  institute .Pvt.LTD            AI  TN  18 Months\n",
       "19  21      Surat           INS   institute  Data Science  Gj  11 Months\n",
       "20  22  Hyderabad       ZAP  institute .Ltd            ML  AP   3 Months\n",
       "21  23     Mumbai  XCAD  institute .Pvt.LTD            DL  MH   3 Months\n",
       "22  24    Channai          MTK   institute          Could  KT   4 Months\n",
       "23  25      Patna       BST  institute .Ltd      Web Serv  BH   4 Months>"
      ]
     },
     "execution_count": 17,
     "metadata": {},
     "output_type": "execute_result"
    }
   ],
   "source": [
    "co.head"
   ]
  },
  {
   "cell_type": "code",
   "execution_count": 19,
   "id": "183e09aa-bfe6-4e1c-b2f3-d21f3c82b79f",
   "metadata": {},
   "outputs": [
    {
     "data": {
      "text/html": [
       "<div>\n",
       "<style scoped>\n",
       "    .dataframe tbody tr th:only-of-type {\n",
       "        vertical-align: middle;\n",
       "    }\n",
       "\n",
       "    .dataframe tbody tr th {\n",
       "        vertical-align: top;\n",
       "    }\n",
       "\n",
       "    .dataframe thead th {\n",
       "        text-align: right;\n",
       "    }\n",
       "</style>\n",
       "<table border=\"1\" class=\"dataframe\">\n",
       "  <thead>\n",
       "    <tr style=\"text-align: right;\">\n",
       "      <th></th>\n",
       "      <th>1</th>\n",
       "      <th>Mumbai</th>\n",
       "      <th>PQR institute .Pvt</th>\n",
       "      <th>BI</th>\n",
       "      <th>MH</th>\n",
       "      <th>9 Months</th>\n",
       "    </tr>\n",
       "  </thead>\n",
       "  <tbody>\n",
       "    <tr>\n",
       "      <th>0</th>\n",
       "      <td>2</td>\n",
       "      <td>Delhi</td>\n",
       "      <td>ABC institute .Pvt.LTD</td>\n",
       "      <td>AI</td>\n",
       "      <td>UP</td>\n",
       "      <td>18 Months</td>\n",
       "    </tr>\n",
       "    <tr>\n",
       "      <th>1</th>\n",
       "      <td>3</td>\n",
       "      <td>Bengaluru</td>\n",
       "      <td>MNO  institute .Ltd</td>\n",
       "      <td>Data Science</td>\n",
       "      <td>TN</td>\n",
       "      <td>11 Months</td>\n",
       "    </tr>\n",
       "    <tr>\n",
       "      <th>2</th>\n",
       "      <td>4</td>\n",
       "      <td>Bhopal</td>\n",
       "      <td>RST  institute .Pvt.LTD</td>\n",
       "      <td>ML</td>\n",
       "      <td>MP</td>\n",
       "      <td>3 Months</td>\n",
       "    </tr>\n",
       "    <tr>\n",
       "      <th>3</th>\n",
       "      <td>5</td>\n",
       "      <td>Mumbai</td>\n",
       "      <td>EFG  institute .Pvt.LTD</td>\n",
       "      <td>DL</td>\n",
       "      <td>MH</td>\n",
       "      <td>3 Months</td>\n",
       "    </tr>\n",
       "    <tr>\n",
       "      <th>4</th>\n",
       "      <td>6</td>\n",
       "      <td>Hyderabad</td>\n",
       "      <td>LMN  institute</td>\n",
       "      <td>Could</td>\n",
       "      <td>AP</td>\n",
       "      <td>4 Months</td>\n",
       "    </tr>\n",
       "    <tr>\n",
       "      <th>5</th>\n",
       "      <td>7</td>\n",
       "      <td>Patna</td>\n",
       "      <td>DEF   institute .Ltd</td>\n",
       "      <td>Web Serv</td>\n",
       "      <td>BH</td>\n",
       "      <td>4 Months</td>\n",
       "    </tr>\n",
       "    <tr>\n",
       "      <th>6</th>\n",
       "      <td>8</td>\n",
       "      <td>Channai</td>\n",
       "      <td>PQR  institute .Pvt.LTD</td>\n",
       "      <td>AWS</td>\n",
       "      <td>KT</td>\n",
       "      <td>3 Months</td>\n",
       "    </tr>\n",
       "    <tr>\n",
       "      <th>7</th>\n",
       "      <td>9</td>\n",
       "      <td>Kolkata</td>\n",
       "      <td>UVW  institute .Ltd</td>\n",
       "      <td>Networking</td>\n",
       "      <td>WB</td>\n",
       "      <td>3 Months</td>\n",
       "    </tr>\n",
       "    <tr>\n",
       "      <th>8</th>\n",
       "      <td>10</td>\n",
       "      <td>Hyderabad</td>\n",
       "      <td>GHI   institute .Ltd</td>\n",
       "      <td>AI</td>\n",
       "      <td>AP</td>\n",
       "      <td>18 Months</td>\n",
       "    </tr>\n",
       "    <tr>\n",
       "      <th>9</th>\n",
       "      <td>11</td>\n",
       "      <td>Bhopal</td>\n",
       "      <td>IJK   institute</td>\n",
       "      <td>DL</td>\n",
       "      <td>MP</td>\n",
       "      <td>3 Months</td>\n",
       "    </tr>\n",
       "  </tbody>\n",
       "</table>\n",
       "</div>"
      ],
      "text/plain": [
       "    1     Mumbai       PQR institute .Pvt            BI  MH   9 Months\n",
       "0   2      Delhi   ABC institute .Pvt.LTD            AI  UP  18 Months\n",
       "1   3  Bengaluru      MNO  institute .Ltd  Data Science  TN  11 Months\n",
       "2   4     Bhopal  RST  institute .Pvt.LTD            ML  MP   3 Months\n",
       "3   5     Mumbai  EFG  institute .Pvt.LTD            DL  MH   3 Months\n",
       "4   6  Hyderabad          LMN  institute          Could  AP   4 Months\n",
       "5   7      Patna     DEF   institute .Ltd      Web Serv  BH   4 Months\n",
       "6   8    Channai  PQR  institute .Pvt.LTD           AWS  KT   3 Months\n",
       "7   9    Kolkata      UVW  institute .Ltd    Networking  WB   3 Months\n",
       "8  10  Hyderabad     GHI   institute .Ltd            AI  AP  18 Months\n",
       "9  11     Bhopal         IJK   institute             DL  MP   3 Months"
      ]
     },
     "execution_count": 19,
     "metadata": {},
     "output_type": "execute_result"
    }
   ],
   "source": [
    "co.head(10)"
   ]
  },
  {
   "cell_type": "code",
   "execution_count": 23,
   "id": "d481f498-3c95-4827-b82a-52b8d43f57b7",
   "metadata": {},
   "outputs": [
    {
     "data": {
      "text/plain": [
       "<bound method NDFrame.tail of      1     Mumbai        PQR institute .Pvt            BI  MH   9 Months\n",
       "0    2      Delhi    ABC institute .Pvt.LTD            AI  UP  18 Months\n",
       "1    3  Bengaluru       MNO  institute .Ltd  Data Science  TN  11 Months\n",
       "2    4     Bhopal   RST  institute .Pvt.LTD            ML  MP   3 Months\n",
       "3    5     Mumbai   EFG  institute .Pvt.LTD            DL  MH   3 Months\n",
       "4    6  Hyderabad           LMN  institute          Could  AP   4 Months\n",
       "5    7      Patna      DEF   institute .Ltd      Web Serv  BH   4 Months\n",
       "6    8    Channai   PQR  institute .Pvt.LTD           AWS  KT   3 Months\n",
       "7    9    Kolkata       UVW  institute .Ltd    Networking  WB   3 Months\n",
       "8   10  Hyderabad      GHI   institute .Ltd            AI  AP  18 Months\n",
       "9   11     Bhopal          IJK   institute             DL  MP   3 Months\n",
       "10  12       Pune      KLM   institute .Ltd  Data Science  MH  11 Months\n",
       "11  13      Delhi       STU  institute .Ltd            BI  UP   6 Months\n",
       "12  14     Mumbai   XYZ  institute .Pvt.LTD         Could  MH   3 Months\n",
       "13  15      Patna       NOP  institute .Ltd           AWS  BH   3 Months\n",
       "14  16      Surat       QRS  institute .Ltd            ML  GJ   3 Months\n",
       "15  17      Delhi           WXY  institute            AWS  UP   3 Months\n",
       "16  18     Mumbai          ZAB   institute       Web Serv  MH   4 Months\n",
       "17  19       Pune       CDE  institute .Ltd  Data Science  MH  11 Months\n",
       "18  20  Bengaluru   JKL  institute .Pvt.LTD            AI  TN  18 Months\n",
       "19  21      Surat           INS   institute  Data Science  Gj  11 Months\n",
       "20  22  Hyderabad       ZAP  institute .Ltd            ML  AP   3 Months\n",
       "21  23     Mumbai  XCAD  institute .Pvt.LTD            DL  MH   3 Months\n",
       "22  24    Channai          MTK   institute          Could  KT   4 Months\n",
       "23  25      Patna       BST  institute .Ltd      Web Serv  BH   4 Months>"
      ]
     },
     "execution_count": 23,
     "metadata": {},
     "output_type": "execute_result"
    }
   ],
   "source": [
    "co.tail"
   ]
  },
  {
   "cell_type": "code",
   "execution_count": 29,
   "id": "48627f83-d1e3-4980-a1ac-0427d2d134e7",
   "metadata": {},
   "outputs": [
    {
     "data": {
      "text/html": [
       "<div>\n",
       "<style scoped>\n",
       "    .dataframe tbody tr th:only-of-type {\n",
       "        vertical-align: middle;\n",
       "    }\n",
       "\n",
       "    .dataframe tbody tr th {\n",
       "        vertical-align: top;\n",
       "    }\n",
       "\n",
       "    .dataframe thead th {\n",
       "        text-align: right;\n",
       "    }\n",
       "</style>\n",
       "<table border=\"1\" class=\"dataframe\">\n",
       "  <thead>\n",
       "    <tr style=\"text-align: right;\">\n",
       "      <th></th>\n",
       "      <th>1</th>\n",
       "      <th>Mumbai</th>\n",
       "      <th>PQR institute .Pvt</th>\n",
       "      <th>BI</th>\n",
       "      <th>MH</th>\n",
       "      <th>9 Months</th>\n",
       "    </tr>\n",
       "  </thead>\n",
       "  <tbody>\n",
       "    <tr>\n",
       "      <th>12</th>\n",
       "      <td>14</td>\n",
       "      <td>Mumbai</td>\n",
       "      <td>XYZ  institute .Pvt.LTD</td>\n",
       "      <td>Could</td>\n",
       "      <td>MH</td>\n",
       "      <td>3 Months</td>\n",
       "    </tr>\n",
       "    <tr>\n",
       "      <th>13</th>\n",
       "      <td>15</td>\n",
       "      <td>Patna</td>\n",
       "      <td>NOP  institute .Ltd</td>\n",
       "      <td>AWS</td>\n",
       "      <td>BH</td>\n",
       "      <td>3 Months</td>\n",
       "    </tr>\n",
       "    <tr>\n",
       "      <th>14</th>\n",
       "      <td>16</td>\n",
       "      <td>Surat</td>\n",
       "      <td>QRS  institute .Ltd</td>\n",
       "      <td>ML</td>\n",
       "      <td>GJ</td>\n",
       "      <td>3 Months</td>\n",
       "    </tr>\n",
       "    <tr>\n",
       "      <th>15</th>\n",
       "      <td>17</td>\n",
       "      <td>Delhi</td>\n",
       "      <td>WXY  institute</td>\n",
       "      <td>AWS</td>\n",
       "      <td>UP</td>\n",
       "      <td>3 Months</td>\n",
       "    </tr>\n",
       "    <tr>\n",
       "      <th>16</th>\n",
       "      <td>18</td>\n",
       "      <td>Mumbai</td>\n",
       "      <td>ZAB   institute</td>\n",
       "      <td>Web Serv</td>\n",
       "      <td>MH</td>\n",
       "      <td>4 Months</td>\n",
       "    </tr>\n",
       "    <tr>\n",
       "      <th>17</th>\n",
       "      <td>19</td>\n",
       "      <td>Pune</td>\n",
       "      <td>CDE  institute .Ltd</td>\n",
       "      <td>Data Science</td>\n",
       "      <td>MH</td>\n",
       "      <td>11 Months</td>\n",
       "    </tr>\n",
       "    <tr>\n",
       "      <th>18</th>\n",
       "      <td>20</td>\n",
       "      <td>Bengaluru</td>\n",
       "      <td>JKL  institute .Pvt.LTD</td>\n",
       "      <td>AI</td>\n",
       "      <td>TN</td>\n",
       "      <td>18 Months</td>\n",
       "    </tr>\n",
       "    <tr>\n",
       "      <th>19</th>\n",
       "      <td>21</td>\n",
       "      <td>Surat</td>\n",
       "      <td>INS   institute</td>\n",
       "      <td>Data Science</td>\n",
       "      <td>Gj</td>\n",
       "      <td>11 Months</td>\n",
       "    </tr>\n",
       "    <tr>\n",
       "      <th>20</th>\n",
       "      <td>22</td>\n",
       "      <td>Hyderabad</td>\n",
       "      <td>ZAP  institute .Ltd</td>\n",
       "      <td>ML</td>\n",
       "      <td>AP</td>\n",
       "      <td>3 Months</td>\n",
       "    </tr>\n",
       "    <tr>\n",
       "      <th>21</th>\n",
       "      <td>23</td>\n",
       "      <td>Mumbai</td>\n",
       "      <td>XCAD  institute .Pvt.LTD</td>\n",
       "      <td>DL</td>\n",
       "      <td>MH</td>\n",
       "      <td>3 Months</td>\n",
       "    </tr>\n",
       "    <tr>\n",
       "      <th>22</th>\n",
       "      <td>24</td>\n",
       "      <td>Channai</td>\n",
       "      <td>MTK   institute</td>\n",
       "      <td>Could</td>\n",
       "      <td>KT</td>\n",
       "      <td>4 Months</td>\n",
       "    </tr>\n",
       "    <tr>\n",
       "      <th>23</th>\n",
       "      <td>25</td>\n",
       "      <td>Patna</td>\n",
       "      <td>BST  institute .Ltd</td>\n",
       "      <td>Web Serv</td>\n",
       "      <td>BH</td>\n",
       "      <td>4 Months</td>\n",
       "    </tr>\n",
       "  </tbody>\n",
       "</table>\n",
       "</div>"
      ],
      "text/plain": [
       "     1     Mumbai        PQR institute .Pvt            BI  MH   9 Months\n",
       "12  14     Mumbai   XYZ  institute .Pvt.LTD         Could  MH   3 Months\n",
       "13  15      Patna       NOP  institute .Ltd           AWS  BH   3 Months\n",
       "14  16      Surat       QRS  institute .Ltd            ML  GJ   3 Months\n",
       "15  17      Delhi           WXY  institute            AWS  UP   3 Months\n",
       "16  18     Mumbai          ZAB   institute       Web Serv  MH   4 Months\n",
       "17  19       Pune       CDE  institute .Ltd  Data Science  MH  11 Months\n",
       "18  20  Bengaluru   JKL  institute .Pvt.LTD            AI  TN  18 Months\n",
       "19  21      Surat           INS   institute  Data Science  Gj  11 Months\n",
       "20  22  Hyderabad       ZAP  institute .Ltd            ML  AP   3 Months\n",
       "21  23     Mumbai  XCAD  institute .Pvt.LTD            DL  MH   3 Months\n",
       "22  24    Channai          MTK   institute          Could  KT   4 Months\n",
       "23  25      Patna       BST  institute .Ltd      Web Serv  BH   4 Months"
      ]
     },
     "execution_count": 29,
     "metadata": {},
     "output_type": "execute_result"
    }
   ],
   "source": [
    "co.tail(12)"
   ]
  },
  {
   "cell_type": "code",
   "execution_count": 31,
   "id": "179803d7-2e8d-4a40-8192-99ded7093aaa",
   "metadata": {},
   "outputs": [
    {
     "data": {
      "text/plain": [
       "(24, 6)"
      ]
     },
     "execution_count": 31,
     "metadata": {},
     "output_type": "execute_result"
    }
   ],
   "source": [
    "co.shape"
   ]
  },
  {
   "cell_type": "code",
   "execution_count": 33,
   "id": "5beffdac-cad3-4539-9bc8-362c467f07ee",
   "metadata": {},
   "outputs": [
    {
     "name": "stdout",
     "output_type": "stream",
     "text": [
      "<class 'pandas.core.frame.DataFrame'>\n",
      "RangeIndex: 24 entries, 0 to 23\n",
      "Data columns (total 6 columns):\n",
      " #   Column              Non-Null Count  Dtype \n",
      "---  ------              --------------  ----- \n",
      " 0   1                   24 non-null     int64 \n",
      " 1   Mumbai              24 non-null     object\n",
      " 2   PQR institute .Pvt  24 non-null     object\n",
      " 3   BI                  24 non-null     object\n",
      " 4   MH                  24 non-null     object\n",
      " 5   9 Months            24 non-null     object\n",
      "dtypes: int64(1), object(5)\n",
      "memory usage: 1.3+ KB\n"
     ]
    }
   ],
   "source": [
    "co.info()"
   ]
  },
  {
   "cell_type": "code",
   "execution_count": 41,
   "id": "2cad8a5f-3be7-4aa4-b600-206c1d19d7df",
   "metadata": {},
   "outputs": [
    {
     "data": {
      "text/plain": [
       "1                      int64\n",
       "Mumbai                object\n",
       "PQR institute .Pvt    object\n",
       "BI                    object\n",
       "MH                    object\n",
       "9 Months              object\n",
       "dtype: object"
      ]
     },
     "execution_count": 41,
     "metadata": {},
     "output_type": "execute_result"
    }
   ],
   "source": [
    "co.dtypes"
   ]
  },
  {
   "cell_type": "code",
   "execution_count": 47,
   "id": "743e622d-0e2d-4fe7-84dd-489e736c3c0a",
   "metadata": {},
   "outputs": [
    {
     "data": {
      "text/html": [
       "<div>\n",
       "<style scoped>\n",
       "    .dataframe tbody tr th:only-of-type {\n",
       "        vertical-align: middle;\n",
       "    }\n",
       "\n",
       "    .dataframe tbody tr th {\n",
       "        vertical-align: top;\n",
       "    }\n",
       "\n",
       "    .dataframe thead th {\n",
       "        text-align: right;\n",
       "    }\n",
       "</style>\n",
       "<table border=\"1\" class=\"dataframe\">\n",
       "  <thead>\n",
       "    <tr style=\"text-align: right;\">\n",
       "      <th></th>\n",
       "      <th>1</th>\n",
       "    </tr>\n",
       "  </thead>\n",
       "  <tbody>\n",
       "    <tr>\n",
       "      <th>count</th>\n",
       "      <td>24.000000</td>\n",
       "    </tr>\n",
       "    <tr>\n",
       "      <th>mean</th>\n",
       "      <td>13.500000</td>\n",
       "    </tr>\n",
       "    <tr>\n",
       "      <th>std</th>\n",
       "      <td>7.071068</td>\n",
       "    </tr>\n",
       "    <tr>\n",
       "      <th>min</th>\n",
       "      <td>2.000000</td>\n",
       "    </tr>\n",
       "    <tr>\n",
       "      <th>25%</th>\n",
       "      <td>7.750000</td>\n",
       "    </tr>\n",
       "    <tr>\n",
       "      <th>50%</th>\n",
       "      <td>13.500000</td>\n",
       "    </tr>\n",
       "    <tr>\n",
       "      <th>75%</th>\n",
       "      <td>19.250000</td>\n",
       "    </tr>\n",
       "    <tr>\n",
       "      <th>max</th>\n",
       "      <td>25.000000</td>\n",
       "    </tr>\n",
       "  </tbody>\n",
       "</table>\n",
       "</div>"
      ],
      "text/plain": [
       "               1\n",
       "count  24.000000\n",
       "mean   13.500000\n",
       "std     7.071068\n",
       "min     2.000000\n",
       "25%     7.750000\n",
       "50%    13.500000\n",
       "75%    19.250000\n",
       "max    25.000000"
      ]
     },
     "execution_count": 47,
     "metadata": {},
     "output_type": "execute_result"
    }
   ],
   "source": [
    "co.describe()"
   ]
  },
  {
   "cell_type": "code",
   "execution_count": 53,
   "id": "14a32ae1-dbe3-4218-88c1-62d741b2c7c6",
   "metadata": {},
   "outputs": [
    {
     "data": {
      "text/plain": [
       "Mumbai    Kolkata\n",
       "Name: 7, dtype: object"
      ]
     },
     "execution_count": 53,
     "metadata": {},
     "output_type": "execute_result"
    }
   ],
   "source": [
    "co.loc[7,[\"Mumbai\"]]"
   ]
  },
  {
   "cell_type": "code",
   "execution_count": 55,
   "id": "6174d8c3-147c-4510-a378-79c689237235",
   "metadata": {},
   "outputs": [
    {
     "data": {
      "text/html": [
       "<div>\n",
       "<style scoped>\n",
       "    .dataframe tbody tr th:only-of-type {\n",
       "        vertical-align: middle;\n",
       "    }\n",
       "\n",
       "    .dataframe tbody tr th {\n",
       "        vertical-align: top;\n",
       "    }\n",
       "\n",
       "    .dataframe thead th {\n",
       "        text-align: right;\n",
       "    }\n",
       "</style>\n",
       "<table border=\"1\" class=\"dataframe\">\n",
       "  <thead>\n",
       "    <tr style=\"text-align: right;\">\n",
       "      <th></th>\n",
       "      <th>Mumbai</th>\n",
       "      <th>PQR institute .Pvt</th>\n",
       "      <th>MH</th>\n",
       "    </tr>\n",
       "  </thead>\n",
       "  <tbody>\n",
       "    <tr>\n",
       "      <th>5</th>\n",
       "      <td>Patna</td>\n",
       "      <td>DEF   institute .Ltd</td>\n",
       "      <td>BH</td>\n",
       "    </tr>\n",
       "    <tr>\n",
       "      <th>6</th>\n",
       "      <td>Channai</td>\n",
       "      <td>PQR  institute .Pvt.LTD</td>\n",
       "      <td>KT</td>\n",
       "    </tr>\n",
       "    <tr>\n",
       "      <th>7</th>\n",
       "      <td>Kolkata</td>\n",
       "      <td>UVW  institute .Ltd</td>\n",
       "      <td>WB</td>\n",
       "    </tr>\n",
       "    <tr>\n",
       "      <th>8</th>\n",
       "      <td>Hyderabad</td>\n",
       "      <td>GHI   institute .Ltd</td>\n",
       "      <td>AP</td>\n",
       "    </tr>\n",
       "    <tr>\n",
       "      <th>9</th>\n",
       "      <td>Bhopal</td>\n",
       "      <td>IJK   institute</td>\n",
       "      <td>MP</td>\n",
       "    </tr>\n",
       "    <tr>\n",
       "      <th>10</th>\n",
       "      <td>Pune</td>\n",
       "      <td>KLM   institute .Ltd</td>\n",
       "      <td>MH</td>\n",
       "    </tr>\n",
       "    <tr>\n",
       "      <th>11</th>\n",
       "      <td>Delhi</td>\n",
       "      <td>STU  institute .Ltd</td>\n",
       "      <td>UP</td>\n",
       "    </tr>\n",
       "  </tbody>\n",
       "</table>\n",
       "</div>"
      ],
      "text/plain": [
       "       Mumbai       PQR institute .Pvt  MH\n",
       "5       Patna     DEF   institute .Ltd  BH\n",
       "6     Channai  PQR  institute .Pvt.LTD  KT\n",
       "7     Kolkata      UVW  institute .Ltd  WB\n",
       "8   Hyderabad     GHI   institute .Ltd  AP\n",
       "9      Bhopal         IJK   institute   MP\n",
       "10       Pune     KLM   institute .Ltd  MH\n",
       "11      Delhi      STU  institute .Ltd  UP"
      ]
     },
     "execution_count": 55,
     "metadata": {},
     "output_type": "execute_result"
    }
   ],
   "source": [
    "co.iloc[5:12,[1,2,4]]"
   ]
  },
  {
   "cell_type": "code",
   "execution_count": 69,
   "id": "25cd99b8-26c6-43a5-a244-dc591388e6a8",
   "metadata": {},
   "outputs": [
    {
     "data": {
      "text/plain": [
       "Mumbai\n",
       "Mumbai       4\n",
       "Delhi        3\n",
       "Hyderabad    3\n",
       "Patna        3\n",
       "Bengaluru    2\n",
       "Bhopal       2\n",
       "Channai      2\n",
       "Pune         2\n",
       "Surat        2\n",
       "Kolkata      1\n",
       "Name: count, dtype: int64"
      ]
     },
     "execution_count": 69,
     "metadata": {},
     "output_type": "execute_result"
    }
   ],
   "source": [
    "co[\"Mumbai\"].value_counts()"
   ]
  },
  {
   "cell_type": "code",
   "execution_count": 77,
   "id": "70a1ca66-ebe7-4123-97e2-9b125621fc89",
   "metadata": {},
   "outputs": [
    {
     "data": {
      "text/plain": [
       "array(['Delhi', 'Bengaluru', 'Bhopal', 'Mumbai', 'Hyderabad', 'Patna',\n",
       "       'Channai', 'Kolkata', 'Pune', 'Surat'], dtype=object)"
      ]
     },
     "execution_count": 77,
     "metadata": {},
     "output_type": "execute_result"
    }
   ],
   "source": [
    "co[\"Mumbai\"].unique()"
   ]
  },
  {
   "cell_type": "code",
   "execution_count": null,
   "id": "93b4891f-6259-4395-b754-233b4a1d0953",
   "metadata": {},
   "outputs": [],
   "source": []
  }
 ],
 "metadata": {
  "kernelspec": {
   "display_name": "Python 3 (ipykernel)",
   "language": "python",
   "name": "python3"
  },
  "language_info": {
   "codemirror_mode": {
    "name": "ipython",
    "version": 3
   },
   "file_extension": ".py",
   "mimetype": "text/x-python",
   "name": "python",
   "nbconvert_exporter": "python",
   "pygments_lexer": "ipython3",
   "version": "3.12.4"
  }
 },
 "nbformat": 4,
 "nbformat_minor": 5
}
